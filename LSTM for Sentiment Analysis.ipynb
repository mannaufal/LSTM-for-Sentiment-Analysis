{
 "cells": [
  {
   "cell_type": "markdown",
   "metadata": {},
   "source": [
    "# Skripsi Analisis Sentiment"
   ]
  },
  {
   "cell_type": "markdown",
   "metadata": {},
   "source": [
    "## Import data ke dalam jupyter"
   ]
  },
  {
   "cell_type": "markdown",
   "metadata": {},
   "source": [
    "Tahap pertama kita akan memanggil library yang dibutuhkan untuk melakukan analisis sentimen menggunakan LSTM. Library yang dibutuhkan antara lain pandas untuk membaca file csv kemudian ada keras dan tensorflow untuk *deep learning* lalu ada matplotlib dan seaborn untuk visualisasi dan lain-lain."
   ]
  },
  {
   "cell_type": "code",
   "execution_count": 1,
   "metadata": {},
   "outputs": [],
   "source": [
    "import pandas as pd\n",
    "import warnings\n",
    "warnings.filterwarnings('ignore')\n",
    "import numpy as np\n",
    "import seaborn as sns\n",
    "import matplotlib.pyplot as plt\n",
    "import plotly.express as px\n",
    "import plotly.graph_objs as go\n",
    "import keras\n",
    "import swifter\n",
    "import tensorflow as tf\n",
    "import gensim\n",
    "from sklearn.metrics import confusion_matrix\n",
    "from gensim.utils import simple_preprocess\n",
    "from nltk.corpus import stopwords\n",
    "from nltk.tokenize import word_tokenize\n",
    "from nltk.probability import FreqDist\n",
    "from Sastrawi.Stemmer.StemmerFactory import StemmerFactory\n",
    "from nltk.tokenize.treebank import TreebankWordDetokenizer\n",
    "from keras.models import Sequential\n",
    "from keras import layers\n",
    "from tensorflow.keras.optimizers import RMSprop,Adam,SGD\n",
    "from tensorflow.keras.preprocessing.text import Tokenizer\n",
    "from tensorflow.keras.preprocessing.sequence import pad_sequences\n",
    "from tensorflow.keras.layers import LSTM\n",
    "from tensorflow.keras.layers import Dense,Dropout\n",
    "from keras import regularizers\n",
    "from keras import backend as K\n",
    "from keras.callbacks import ModelCheckpoint\n",
    "from keras.layers import Embedding\n",
    "from sklearn.model_selection import train_test_split\n",
    "from sklearn.preprocessing import StandardScaler\n",
    "from wordcloud import WordCloud\n",
    "from sklearn.feature_extraction.text import CountVectorizer"
   ]
  },
  {
   "cell_type": "markdown",
   "metadata": {},
   "source": [
    "Tahap kedua kita panggil datasetnya menggunakan library pandas"
   ]
  },
  {
   "cell_type": "code",
   "execution_count": 2,
   "metadata": {},
   "outputs": [
    {
     "data": {
      "text/html": [
       "<div>\n",
       "<style scoped>\n",
       "    .dataframe tbody tr th:only-of-type {\n",
       "        vertical-align: middle;\n",
       "    }\n",
       "\n",
       "    .dataframe tbody tr th {\n",
       "        vertical-align: top;\n",
       "    }\n",
       "\n",
       "    .dataframe thead th {\n",
       "        text-align: right;\n",
       "    }\n",
       "</style>\n",
       "<table border=\"1\" class=\"dataframe\">\n",
       "  <thead>\n",
       "    <tr style=\"text-align: right;\">\n",
       "      <th></th>\n",
       "      <th>waktu</th>\n",
       "      <th>tweet</th>\n",
       "      <th>sentiment</th>\n",
       "    </tr>\n",
       "  </thead>\n",
       "  <tbody>\n",
       "    <tr>\n",
       "      <th>0</th>\n",
       "      <td>2021-08-16 23:55:42</td>\n",
       "      <td>['ayo', 'warga', 'tulungagung', 'daftar', 'ikut', 'vaksin', 'syarat', 'lampir', 'rabu', 'agustus']</td>\n",
       "      <td>positive</td>\n",
       "    </tr>\n",
       "    <tr>\n",
       "      <th>1</th>\n",
       "      <td>2021-08-16 23:54:58</td>\n",
       "      <td>['daftar', 'vaksin', 'ayo', 'lupa', 'warga', 'tulungagung', 'ikut', 'vaksin', 'syarat']</td>\n",
       "      <td>positive</td>\n",
       "    </tr>\n",
       "    <tr>\n",
       "      <th>2</th>\n",
       "      <td>2021-08-16 23:50:56</td>\n",
       "      <td>['gas']</td>\n",
       "      <td>neutral</td>\n",
       "    </tr>\n",
       "    <tr>\n",
       "      <th>3</th>\n",
       "      <td>2021-08-16 23:47:46</td>\n",
       "      <td>['satgas', 'masyarkat', 'khawatir', 'syarat', 'vaksin', 'umrah']</td>\n",
       "      <td>neutral</td>\n",
       "    </tr>\n",
       "    <tr>\n",
       "      <th>4</th>\n",
       "      <td>2021-08-16 23:47:29</td>\n",
       "      <td>['vaksin', 'covid', 'bukti', 'turun', 'risiko', 'mati', 'nakes']</td>\n",
       "      <td>positive</td>\n",
       "    </tr>\n",
       "    <tr>\n",
       "      <th>5</th>\n",
       "      <td>2021-08-16 23:46:59</td>\n",
       "      <td>['jalan', 'vaksin', 'lancar', 'sebentar', 'ingat', 'merdeka', 'ada']</td>\n",
       "      <td>neutral</td>\n",
       "    </tr>\n",
       "    <tr>\n",
       "      <th>6</th>\n",
       "      <td>2021-08-16 23:45:56</td>\n",
       "      <td>['jerman', 'suntik', 'juta', 'dosis', 'vaksin', 'covid', 'inggris', 'juta', 'dosis', 'vaksin', 'covid']</td>\n",
       "      <td>neutral</td>\n",
       "    </tr>\n",
       "    <tr>\n",
       "      <th>7</th>\n",
       "      <td>2021-08-16 23:44:19</td>\n",
       "      <td>['our', 'world', 'in', 'data', 'lapor', 'populasi', 'dunia', 'terima', 'dosis', 'vaksin', 'covid', 'vaksinasi']</td>\n",
       "      <td>neutral</td>\n",
       "    </tr>\n",
       "    <tr>\n",
       "      <th>8</th>\n",
       "      <td>2021-08-16 23:43:58</td>\n",
       "      <td>['dasar', 'grafik', 'china', 'tempat', 'urut', 'negara', 'suntik', 'vaksin', 'covid']</td>\n",
       "      <td>neutral</td>\n",
       "    </tr>\n",
       "    <tr>\n",
       "      <th>9</th>\n",
       "      <td>2021-08-16 23:42:50</td>\n",
       "      <td>['indonesia', 'tempat', 'peringkat', 'negara', 'suntik', 'vaksin', 'covid', 'agustus', 'peringkat']</td>\n",
       "      <td>neutral</td>\n",
       "    </tr>\n",
       "  </tbody>\n",
       "</table>\n",
       "</div>"
      ],
      "text/plain": [
       "                 waktu  \\\n",
       "0  2021-08-16 23:55:42   \n",
       "1  2021-08-16 23:54:58   \n",
       "2  2021-08-16 23:50:56   \n",
       "3  2021-08-16 23:47:46   \n",
       "4  2021-08-16 23:47:29   \n",
       "5  2021-08-16 23:46:59   \n",
       "6  2021-08-16 23:45:56   \n",
       "7  2021-08-16 23:44:19   \n",
       "8  2021-08-16 23:43:58   \n",
       "9  2021-08-16 23:42:50   \n",
       "\n",
       "                                                                                                             tweet  \\\n",
       "0               ['ayo', 'warga', 'tulungagung', 'daftar', 'ikut', 'vaksin', 'syarat', 'lampir', 'rabu', 'agustus']   \n",
       "1                          ['daftar', 'vaksin', 'ayo', 'lupa', 'warga', 'tulungagung', 'ikut', 'vaksin', 'syarat']   \n",
       "2                                                                                                          ['gas']   \n",
       "3                                                 ['satgas', 'masyarkat', 'khawatir', 'syarat', 'vaksin', 'umrah']   \n",
       "4                                                 ['vaksin', 'covid', 'bukti', 'turun', 'risiko', 'mati', 'nakes']   \n",
       "5                                             ['jalan', 'vaksin', 'lancar', 'sebentar', 'ingat', 'merdeka', 'ada']   \n",
       "6          ['jerman', 'suntik', 'juta', 'dosis', 'vaksin', 'covid', 'inggris', 'juta', 'dosis', 'vaksin', 'covid']   \n",
       "7  ['our', 'world', 'in', 'data', 'lapor', 'populasi', 'dunia', 'terima', 'dosis', 'vaksin', 'covid', 'vaksinasi']   \n",
       "8                            ['dasar', 'grafik', 'china', 'tempat', 'urut', 'negara', 'suntik', 'vaksin', 'covid']   \n",
       "9              ['indonesia', 'tempat', 'peringkat', 'negara', 'suntik', 'vaksin', 'covid', 'agustus', 'peringkat']   \n",
       "\n",
       "  sentiment  \n",
       "0  positive  \n",
       "1  positive  \n",
       "2   neutral  \n",
       "3   neutral  \n",
       "4  positive  \n",
       "5   neutral  \n",
       "6   neutral  \n",
       "7   neutral  \n",
       "8   neutral  \n",
       "9   neutral  "
      ]
     },
     "execution_count": 2,
     "metadata": {},
     "output_type": "execute_result"
    }
   ],
   "source": [
    "df = pd.read_csv('Hasil Preproses 1.csv', error_bad_lines = False)\n",
    "pd.set_option('max_colwidth', None)\n",
    "df.head(10)"
   ]
  },
  {
   "cell_type": "markdown",
   "metadata": {},
   "source": [
    "Kemudian kita akan lihat jumlah data yang terdapat pada dataset yang telah dimasukan ke dalam program"
   ]
  },
  {
   "cell_type": "code",
   "execution_count": null,
   "metadata": {},
   "outputs": [],
   "source": [
    "len(df)"
   ]
  },
  {
   "cell_type": "markdown",
   "metadata": {},
   "source": [
    "Lalu kita akan melihat apakah dataset tersebut memiliki data yang duplikat dan kosong"
   ]
  },
  {
   "cell_type": "code",
   "execution_count": null,
   "metadata": {},
   "outputs": [],
   "source": [
    "df[df.duplicated(keep='last')]"
   ]
  },
  {
   "cell_type": "code",
   "execution_count": null,
   "metadata": {},
   "outputs": [],
   "source": [
    "df[df.isna().values.any(axis=1)]"
   ]
  },
  {
   "cell_type": "code",
   "execution_count": null,
   "metadata": {},
   "outputs": [],
   "source": [
    "df['sentiment'].unique()"
   ]
  },
  {
   "cell_type": "code",
   "execution_count": null,
   "metadata": {},
   "outputs": [],
   "source": [
    "df.groupby('sentiment').nunique()"
   ]
  },
  {
   "cell_type": "code",
   "execution_count": null,
   "metadata": {},
   "outputs": [],
   "source": [
    "len(df)"
   ]
  },
  {
   "cell_type": "markdown",
   "metadata": {},
   "source": [
    "## Memvisualisasi Data"
   ]
  },
  {
   "cell_type": "markdown",
   "metadata": {},
   "source": [
    "Pada tahapan ini, kita akan mevisualisasikan data dari dataset yang telah dimasukan kedalam program menggunakan library **Matplotlib** dan **Seaborn**. Visualisasi data tersebut divisualisasikan menggunakan grafik, histogram, dan wordcloud."
   ]
  },
  {
   "cell_type": "code",
   "execution_count": null,
   "metadata": {},
   "outputs": [],
   "source": [
    "fig = px.histogram(df, x=\"sentiment\", title=\"Jumlah Sentiment\")\n",
    "fig.update_layout(bargap=0.2)\n",
    "fig.show()"
   ]
  },
  {
   "cell_type": "code",
   "execution_count": null,
   "metadata": {},
   "outputs": [],
   "source": [
    "cv = CountVectorizer(stop_words = 'english')\n",
    "words = cv.fit_transform(df.tweet)\n",
    "\n",
    "sum_words = words.sum(axis=0)\n",
    "\n",
    "words_freq = [(word, sum_words[0, i]) for word, i in cv.vocabulary_.items()]\n",
    "words_freq = sorted(words_freq, key = lambda x: x[1], reverse = True)\n",
    "\n",
    "frequency = pd.DataFrame(words_freq, columns=['word', 'freq'])\n",
    "\n",
    "frequency.head(30).plot(x='word', y='freq', kind='bar', figsize=(15, 7), color = 'blue')\n",
    "plt.title(\"Most Frequently Occuring Words - Top 30\")"
   ]
  },
  {
   "cell_type": "code",
   "execution_count": null,
   "metadata": {},
   "outputs": [],
   "source": [
    "wr = pd.read_csv('Data Wordcloud.csv', error_bad_lines = False)"
   ]
  },
  {
   "cell_type": "code",
   "execution_count": null,
   "metadata": {},
   "outputs": [],
   "source": [
    "wr['sentiment'] = wr['sentiment'].replace('positive', 2)\n",
    "wr['sentiment'] = wr['sentiment'].replace('negative', 0)\n",
    "wr['sentiment'] = wr['sentiment'].replace('neutral', 1)"
   ]
  },
  {
   "cell_type": "code",
   "execution_count": null,
   "metadata": {},
   "outputs": [],
   "source": [
    "wordcloud = WordCloud(background_color = 'white', width = 1000, height = 1000).generate_from_frequencies(dict(words_freq))\n",
    "\n",
    "plt.figure(figsize=(10,8))\n",
    "plt.imshow(wordcloud)\n",
    "plt.axis('off')\n",
    "plt.title(\"WordCloud Kata Yang Muncul\", fontsize = 15)"
   ]
  },
  {
   "cell_type": "code",
   "execution_count": null,
   "metadata": {
    "scrolled": false
   },
   "outputs": [],
   "source": [
    "normal_words =' '.join([text for text in wr['tweet'][wr['sentiment'] == 1]])\n",
    "\n",
    "wordcloud = WordCloud(background_color = 'white',width=1920, height=1080, random_state=5, max_font_size = 500).generate(normal_words)\n",
    "plt.figure(figsize=(10, 7))\n",
    "plt.imshow(wordcloud, interpolation=\"bilinear\")\n",
    "plt.axis('off')\n",
    "plt.title('The Neutral Words')\n",
    "plt.show()"
   ]
  },
  {
   "cell_type": "code",
   "execution_count": null,
   "metadata": {},
   "outputs": [],
   "source": [
    "positive_words =' '.join([text for text in wr['tweet'][wr['sentiment'] == 2]])\n",
    "\n",
    "wordcloud = WordCloud(background_color = 'white',width=800, height=500, random_state=5, max_font_size = 110).generate(positive_words)\n",
    "plt.figure(figsize=(10, 7))\n",
    "plt.imshow(wordcloud, interpolation=\"bilinear\")\n",
    "plt.axis('off')\n",
    "plt.title('The Positive Words')\n",
    "plt.show()"
   ]
  },
  {
   "cell_type": "code",
   "execution_count": null,
   "metadata": {
    "scrolled": true
   },
   "outputs": [],
   "source": [
    "positive_words =' '.join([text for text in wr['tweet'][wr['sentiment'] == 0]])\n",
    "\n",
    "wordcloud = WordCloud(background_color = 'white',width=800, height=500, random_state=5, max_font_size = 110).generate(positive_words)\n",
    "plt.figure(figsize=(10, 7))\n",
    "plt.imshow(wordcloud, interpolation=\"bilinear\")\n",
    "plt.axis('off')\n",
    "plt.title('The Negative Words')\n",
    "plt.show()"
   ]
  },
  {
   "cell_type": "markdown",
   "metadata": {},
   "source": [
    "## PREPROCESSING DATA"
   ]
  },
  {
   "cell_type": "markdown",
   "metadata": {},
   "source": [
    "### CASE FOLDING"
   ]
  },
  {
   "cell_type": "code",
   "execution_count": null,
   "metadata": {},
   "outputs": [],
   "source": [
    "data['tweet'] = data['tweet'].str.lower()\n",
    "print(data['tweet'])"
   ]
  },
  {
   "cell_type": "markdown",
   "metadata": {},
   "source": [
    "### TOKENIZING"
   ]
  },
  {
   "cell_type": "code",
   "execution_count": null,
   "metadata": {},
   "outputs": [],
   "source": [
    "#NLTK word tokenize\n",
    "def word_tokenize_wrapper(text):\n",
    "    return word_tokenize(text)\n",
    "data['tweet'] = data['tweet'].apply(word_tokenize_wrapper)\n",
    "print(data['tweet'])"
   ]
  },
  {
   "cell_type": "markdown",
   "metadata": {},
   "source": [
    "### STOPWORD REMOVAL"
   ]
  },
  {
   "cell_type": "code",
   "execution_count": null,
   "metadata": {
    "scrolled": true
   },
   "outputs": [],
   "source": [
    "list_stopwords = stopwords.words('indonesian')\n",
    "\n",
    "def stopwords_removal(words):\n",
    "    return [word for word in words if word not in list_stopwords]\n",
    "data['tweet'] = data['tweet'].apply(stopwords_removal)\n",
    "print(data['tweet'])"
   ]
  },
  {
   "cell_type": "markdown",
   "metadata": {},
   "source": [
    "### STEMMING"
   ]
  },
  {
   "cell_type": "code",
   "execution_count": null,
   "metadata": {},
   "outputs": [],
   "source": [
    "factory = StemmerFactory()\n",
    "stemmer = factory.create_stemmer()\n",
    "\n",
    "def stemmed_wrapper(term):\n",
    "    return stemmer.stem(term)\n",
    "\n",
    "term_dict = {}\n",
    "\n",
    "for document in data['tweet']:\n",
    "    for term in document:\n",
    "        if term not in term_dict:\n",
    "            term_dict[term] = ' '\n",
    "            \n",
    "print(len(term_dict))\n",
    "print(\"------------------------\")\n",
    "\n",
    "for term in term_dict:\n",
    "    term_dict[term] = stemmed_wrapper(term)\n",
    "    print(term,\":\" ,term_dict[term])\n",
    "    \n",
    "print(term_dict)\n",
    "print(\"------------------------\")\n",
    "\n",
    "\n",
    "# apply stemmed term to dataframe\n",
    "def get_stemmed_term(document):\n",
    "    return [term_dict[term] for term in document]\n",
    "\n",
    "data['tweet'] = data['tweet'].swifter.apply(get_stemmed_term)\n",
    "print(data['tweet'])"
   ]
  },
  {
   "cell_type": "code",
   "execution_count": null,
   "metadata": {},
   "outputs": [],
   "source": [
    "print(tweet)"
   ]
  },
  {
   "cell_type": "markdown",
   "metadata": {},
   "source": [
    "### LABEL ENCODING"
   ]
  },
  {
   "cell_type": "code",
   "execution_count": 2,
   "metadata": {},
   "outputs": [],
   "source": [
    "data = pd.read_csv('Hasil Preproses 1.csv', error_bad_lines = False)"
   ]
  },
  {
   "cell_type": "code",
   "execution_count": 3,
   "metadata": {},
   "outputs": [],
   "source": [
    "tweet = data['tweet']"
   ]
  },
  {
   "cell_type": "code",
   "execution_count": 4,
   "metadata": {},
   "outputs": [],
   "source": [
    "labels = np.array(data['sentiment'])\n",
    "y = []\n",
    "for i in range(len(labels)):\n",
    "    if labels[i] == 'negative':\n",
    "        y.append(0)\n",
    "    if labels[i] == 'neutral':\n",
    "        y.append(1)\n",
    "    if labels[i] == 'positive':\n",
    "        y.append(2)\n",
    "y = np.array(y)\n",
    "labels = tf.keras.utils.to_categorical(y, 3, dtype=\"int64\")\n",
    "del y"
   ]
  },
  {
   "cell_type": "code",
   "execution_count": 5,
   "metadata": {},
   "outputs": [
    {
     "data": {
      "text/plain": [
       "2275"
      ]
     },
     "execution_count": 5,
     "metadata": {},
     "output_type": "execute_result"
    }
   ],
   "source": [
    "len(labels)"
   ]
  },
  {
   "cell_type": "markdown",
   "metadata": {},
   "source": [
    "### PROSES DATA"
   ]
  },
  {
   "cell_type": "code",
   "execution_count": 6,
   "metadata": {},
   "outputs": [
    {
     "data": {
      "text/plain": [
       "[\"['ayo', 'warga', 'tulungagung', 'daftar', 'ikut', 'vaksin', 'syarat', 'lampir', 'rabu', 'agustus']\",\n",
       " \"['daftar', 'vaksin', 'ayo', 'lupa', 'warga', 'tulungagung', 'ikut', 'vaksin', 'syarat']\",\n",
       " \"['gas']\",\n",
       " \"['satgas', 'masyarkat', 'khawatir', 'syarat', 'vaksin', 'umrah']\",\n",
       " \"['vaksin', 'covid', 'bukti', 'turun', 'risiko', 'mati', 'nakes']\",\n",
       " \"['jalan', 'vaksin', 'lancar', 'sebentar', 'ingat', 'merdeka', 'ada']\",\n",
       " \"['jerman', 'suntik', 'juta', 'dosis', 'vaksin', 'covid', 'inggris', 'juta', 'dosis', 'vaksin', 'covid']\",\n",
       " \"['our', 'world', 'in', 'data', 'lapor', 'populasi', 'dunia', 'terima', 'dosis', 'vaksin', 'covid', 'vaksinasi']\",\n",
       " \"['dasar', 'grafik', 'china', 'tempat', 'urut', 'negara', 'suntik', 'vaksin', 'covid']\",\n",
       " \"['indonesia', 'tempat', 'peringkat', 'negara', 'suntik', 'vaksin', 'covid', 'agustus', 'peringkat']\"]"
      ]
     },
     "execution_count": 6,
     "metadata": {},
     "output_type": "execute_result"
    }
   ],
   "source": [
    "temp = []\n",
    "#Splitting pd.Series to list\n",
    "data_to_list = tweet.values.tolist()\n",
    "for i in range(len(data_to_list)):\n",
    "    temp.append((data_to_list[i]))\n",
    "list(temp[:10])"
   ]
  },
  {
   "cell_type": "code",
   "execution_count": 7,
   "metadata": {},
   "outputs": [
    {
     "name": "stdout",
     "output_type": "stream",
     "text": [
      "[['ayo', 'warga', 'tulungagung', 'daftar', 'ikut', 'vaksin', 'syarat', 'lampir', 'rabu', 'agustus'], ['daftar', 'vaksin', 'ayo', 'lupa', 'warga', 'tulungagung', 'ikut', 'vaksin', 'syarat'], ['gas'], ['satgas', 'masyarkat', 'khawatir', 'syarat', 'vaksin', 'umrah'], ['vaksin', 'covid', 'bukti', 'turun', 'risiko', 'mati', 'nakes'], ['jalan', 'vaksin', 'lancar', 'sebentar', 'ingat', 'merdeka', 'ada'], ['jerman', 'suntik', 'juta', 'dosis', 'vaksin', 'covid', 'inggris', 'juta', 'dosis', 'vaksin', 'covid'], ['our', 'world', 'in', 'data', 'lapor', 'populasi', 'dunia', 'terima', 'dosis', 'vaksin', 'covid', 'vaksinasi'], ['dasar', 'grafik', 'china', 'tempat', 'urut', 'negara', 'suntik', 'vaksin', 'covid'], ['indonesia', 'tempat', 'peringkat', 'negara', 'suntik', 'vaksin', 'covid', 'agustus', 'peringkat']]\n"
     ]
    }
   ],
   "source": [
    "def sent_to_words(sentences):\n",
    "    for sentence in sentences:\n",
    "        yield(gensim.utils.simple_preprocess(str(sentence), deacc=True))  # deacc=True removes punctuations\n",
    "        \n",
    "data_words = list(sent_to_words(temp))\n",
    "\n",
    "print(data_words[:10])"
   ]
  },
  {
   "cell_type": "code",
   "execution_count": 8,
   "metadata": {},
   "outputs": [
    {
     "data": {
      "text/plain": [
       "2275"
      ]
     },
     "execution_count": 8,
     "metadata": {},
     "output_type": "execute_result"
    }
   ],
   "source": [
    "len(data_words)"
   ]
  },
  {
   "cell_type": "code",
   "execution_count": 9,
   "metadata": {},
   "outputs": [],
   "source": [
    "def detokenize(text):\n",
    "    return TreebankWordDetokenizer().detokenize(text)"
   ]
  },
  {
   "cell_type": "code",
   "execution_count": 10,
   "metadata": {},
   "outputs": [
    {
     "name": "stdout",
     "output_type": "stream",
     "text": [
      "['ayo warga tulungagung daftar ikut vaksin syarat lampir rabu agustus', 'daftar vaksin ayo lupa warga tulungagung ikut vaksin syarat', 'gas', 'satgas masyarkat khawatir syarat vaksin umrah', 'vaksin covid bukti turun risiko mati nakes', 'jalan vaksin lancar sebentar ingat merdeka ada', 'jerman suntik juta dosis vaksin covid inggris juta dosis vaksin covid', 'our world in data lapor populasi dunia terima dosis vaksin covid vaksinasi', 'dasar grafik china tempat urut negara suntik vaksin covid', 'indonesia tempat peringkat negara suntik vaksin covid agustus peringkat']\n"
     ]
    }
   ],
   "source": [
    "data = []\n",
    "for i in range(len(data_words)):\n",
    "    data.append(detokenize(data_words[i]))\n",
    "print(data[:10])"
   ]
  },
  {
   "cell_type": "code",
   "execution_count": 11,
   "metadata": {},
   "outputs": [],
   "source": [
    "data = np.array(data)"
   ]
  },
  {
   "cell_type": "markdown",
   "metadata": {},
   "source": [
    "### MENGUBAH TEKS MENJADI ANGKA"
   ]
  },
  {
   "cell_type": "code",
   "execution_count": 12,
   "metadata": {},
   "outputs": [
    {
     "name": "stdout",
     "output_type": "stream",
     "text": [
      "[[   0    0    0 ...  554  678   22]\n",
      " [   0    0    0 ...   50    1   38]\n",
      " [   0    0    0 ...    0    0 1065]\n",
      " ...\n",
      " [   0    0    0 ...  159    4    1]\n",
      " [   0    0    0 ...  787   17    2]\n",
      " [   0    0    0 ... 1037  520  244]]\n"
     ]
    }
   ],
   "source": [
    "max_words = 5000\n",
    "max_len = 200\n",
    "\n",
    "tokenizer = Tokenizer(num_words=max_words)\n",
    "tokenizer.fit_on_texts(data)\n",
    "sequences = tokenizer.texts_to_sequences(data)\n",
    "tweets = pad_sequences(sequences, maxlen=max_len)\n",
    "print(tweets)"
   ]
  },
  {
   "cell_type": "code",
   "execution_count": 13,
   "metadata": {},
   "outputs": [],
   "source": [
    "embedding_layer = Embedding(1000, 64)"
   ]
  },
  {
   "cell_type": "code",
   "execution_count": 14,
   "metadata": {},
   "outputs": [
    {
     "name": "stdout",
     "output_type": "stream",
     "text": [
      "<keras.layers.embeddings.Embedding object at 0x0000023A53B73760>\n"
     ]
    }
   ],
   "source": [
    "print(embedding_layer)"
   ]
  },
  {
   "cell_type": "code",
   "execution_count": 15,
   "metadata": {},
   "outputs": [
    {
     "name": "stdout",
     "output_type": "stream",
     "text": [
      "1820 455 1820 455\n",
      "y_train (1820, 3)\n",
      "y_test (455, 3)\n"
     ]
    }
   ],
   "source": [
    "#Splitting the data\n",
    "X_train, X_test, y_train, y_test = train_test_split(tweets,labels,test_size=0.2,random_state=0)\n",
    "print (len(X_train),len(X_test),len(y_train),len(y_test))\n",
    "\n",
    "print(\"y_train\",y_train.shape)\n",
    "print(\"y_test\",y_test.shape)"
   ]
  },
  {
   "cell_type": "code",
   "execution_count": 111,
   "metadata": {},
   "outputs": [
    {
     "name": "stdout",
     "output_type": "stream",
     "text": [
      "Model: \"sequential_11\"\n",
      "_________________________________________________________________\n",
      "Layer (type)                 Output Shape              Param #   \n",
      "=================================================================\n",
      "embedding_12 (Embedding)     (None, None, 20)          100000    \n",
      "_________________________________________________________________\n",
      "lstm_11 (LSTM)               (None, 20)                3280      \n",
      "_________________________________________________________________\n",
      "dense_11 (Dense)             (None, 3)                 63        \n",
      "=================================================================\n",
      "Total params: 103,343\n",
      "Trainable params: 103,343\n",
      "Non-trainable params: 0\n",
      "_________________________________________________________________\n",
      "WARNING:tensorflow:`period` argument is deprecated. Please use `save_freq` to specify the frequency in number of batches seen.\n",
      "Epoch 1/50\n",
      "65/65 [==============================] - 14s 129ms/step - loss: 1.0663 - accuracy: 0.4572 - val_loss: 1.0113 - val_accuracy: 0.4615\n",
      "\n",
      "Epoch 00001: val_accuracy improved from -inf to 0.46154, saving model to best_model1.hdf5\n",
      "Epoch 2/50\n",
      "65/65 [==============================] - 7s 108ms/step - loss: 0.9513 - accuracy: 0.5330 - val_loss: 0.8391 - val_accuracy: 0.6923\n",
      "\n",
      "Epoch 00002: val_accuracy improved from 0.46154 to 0.69231, saving model to best_model1.hdf5\n",
      "Epoch 3/50\n",
      "65/65 [==============================] - 7s 102ms/step - loss: 0.7464 - accuracy: 0.7096 - val_loss: 0.6402 - val_accuracy: 0.7495\n",
      "\n",
      "Epoch 00003: val_accuracy improved from 0.69231 to 0.74945, saving model to best_model1.hdf5\n",
      "Epoch 4/50\n",
      "65/65 [==============================] - 7s 103ms/step - loss: 0.5974 - accuracy: 0.7856 - val_loss: 0.5172 - val_accuracy: 0.8286\n",
      "\n",
      "Epoch 00004: val_accuracy improved from 0.74945 to 0.82857, saving model to best_model1.hdf5\n",
      "Epoch 5/50\n",
      "65/65 [==============================] - 7s 104ms/step - loss: 0.4603 - accuracy: 0.8521 - val_loss: 0.4313 - val_accuracy: 0.8593\n",
      "\n",
      "Epoch 00005: val_accuracy improved from 0.82857 to 0.85934, saving model to best_model1.hdf5\n",
      "Epoch 6/50\n",
      "65/65 [==============================] - 7s 102ms/step - loss: 0.3777 - accuracy: 0.8872 - val_loss: 0.3839 - val_accuracy: 0.8593\n",
      "\n",
      "Epoch 00006: val_accuracy did not improve from 0.85934\n",
      "Epoch 7/50\n",
      "65/65 [==============================] - 7s 106ms/step - loss: 0.3132 - accuracy: 0.9005 - val_loss: 0.3475 - val_accuracy: 0.8769\n",
      "\n",
      "Epoch 00007: val_accuracy improved from 0.85934 to 0.87692, saving model to best_model1.hdf5\n",
      "Epoch 8/50\n",
      "65/65 [==============================] - 7s 102ms/step - loss: 0.2314 - accuracy: 0.9272 - val_loss: 0.3434 - val_accuracy: 0.8769\n",
      "\n",
      "Epoch 00008: val_accuracy did not improve from 0.87692\n",
      "Epoch 9/50\n",
      "65/65 [==============================] - 7s 105ms/step - loss: 0.2065 - accuracy: 0.9272 - val_loss: 0.3450 - val_accuracy: 0.8791\n",
      "\n",
      "Epoch 00009: val_accuracy improved from 0.87692 to 0.87912, saving model to best_model1.hdf5\n",
      "Epoch 10/50\n",
      "65/65 [==============================] - 7s 102ms/step - loss: 0.1519 - accuracy: 0.9550 - val_loss: 0.3356 - val_accuracy: 0.8923\n",
      "\n",
      "Epoch 00010: val_accuracy improved from 0.87912 to 0.89231, saving model to best_model1.hdf5\n",
      "Epoch 11/50\n",
      "65/65 [==============================] - 7s 102ms/step - loss: 0.1352 - accuracy: 0.9604 - val_loss: 0.3415 - val_accuracy: 0.8967\n",
      "\n",
      "Epoch 00011: val_accuracy improved from 0.89231 to 0.89670, saving model to best_model1.hdf5\n",
      "Epoch 12/50\n",
      "65/65 [==============================] - 7s 105ms/step - loss: 0.1387 - accuracy: 0.9569 - val_loss: 0.3658 - val_accuracy: 0.8879\n",
      "\n",
      "Epoch 00012: val_accuracy did not improve from 0.89670\n",
      "Epoch 13/50\n",
      "65/65 [==============================] - 7s 103ms/step - loss: 0.1478 - accuracy: 0.9600 - val_loss: 0.3546 - val_accuracy: 0.8945\n",
      "\n",
      "Epoch 00013: val_accuracy did not improve from 0.89670\n",
      "Epoch 14/50\n",
      "65/65 [==============================] - 7s 105ms/step - loss: 0.1003 - accuracy: 0.9642 - val_loss: 0.3588 - val_accuracy: 0.8967\n",
      "\n",
      "Epoch 00014: val_accuracy did not improve from 0.89670\n",
      "Epoch 15/50\n",
      "65/65 [==============================] - 7s 103ms/step - loss: 0.1096 - accuracy: 0.9650 - val_loss: 0.3790 - val_accuracy: 0.8923\n",
      "\n",
      "Epoch 00015: val_accuracy did not improve from 0.89670\n",
      "Epoch 16/50\n",
      "65/65 [==============================] - 7s 105ms/step - loss: 0.0968 - accuracy: 0.9691 - val_loss: 0.3670 - val_accuracy: 0.8901\n",
      "\n",
      "Epoch 00016: val_accuracy did not improve from 0.89670\n",
      "Epoch 17/50\n",
      "65/65 [==============================] - 7s 102ms/step - loss: 0.0987 - accuracy: 0.9638 - val_loss: 0.3962 - val_accuracy: 0.8879\n",
      "\n",
      "Epoch 00017: val_accuracy did not improve from 0.89670\n",
      "Epoch 18/50\n",
      "65/65 [==============================] - 7s 102ms/step - loss: 0.0715 - accuracy: 0.9824 - val_loss: 0.3957 - val_accuracy: 0.8901\n",
      "\n",
      "Epoch 00018: val_accuracy did not improve from 0.89670\n",
      "Epoch 19/50\n",
      "65/65 [==============================] - 7s 105ms/step - loss: 0.0757 - accuracy: 0.9724 - val_loss: 0.4031 - val_accuracy: 0.8901\n",
      "\n",
      "Epoch 00019: val_accuracy did not improve from 0.89670\n",
      "Epoch 20/50\n",
      "65/65 [==============================] - 7s 102ms/step - loss: 0.0709 - accuracy: 0.9811 - val_loss: 0.4145 - val_accuracy: 0.8923\n",
      "\n",
      "Epoch 00020: val_accuracy did not improve from 0.89670\n",
      "Epoch 21/50\n",
      "65/65 [==============================] - 7s 105ms/step - loss: 0.0491 - accuracy: 0.9850 - val_loss: 0.4243 - val_accuracy: 0.8923\n",
      "\n",
      "Epoch 00021: val_accuracy did not improve from 0.89670\n",
      "Epoch 22/50\n",
      "65/65 [==============================] - 7s 102ms/step - loss: 0.0520 - accuracy: 0.9875 - val_loss: 0.4536 - val_accuracy: 0.8835\n",
      "\n",
      "Epoch 00022: val_accuracy did not improve from 0.89670\n",
      "Epoch 23/50\n",
      "65/65 [==============================] - 7s 103ms/step - loss: 0.0609 - accuracy: 0.9799 - val_loss: 0.4556 - val_accuracy: 0.8879\n",
      "\n",
      "Epoch 00023: val_accuracy did not improve from 0.89670\n",
      "Epoch 24/50\n",
      "65/65 [==============================] - 7s 106ms/step - loss: 0.0428 - accuracy: 0.9856 - val_loss: 0.4610 - val_accuracy: 0.8945\n",
      "\n",
      "Epoch 00024: val_accuracy did not improve from 0.89670\n",
      "Epoch 25/50\n",
      "65/65 [==============================] - 7s 102ms/step - loss: 0.0510 - accuracy: 0.9828 - val_loss: 0.4717 - val_accuracy: 0.8857\n",
      "\n",
      "Epoch 00025: val_accuracy did not improve from 0.89670\n",
      "Epoch 26/50\n",
      "65/65 [==============================] - 7s 105ms/step - loss: 0.0335 - accuracy: 0.9903 - val_loss: 0.4751 - val_accuracy: 0.8901\n",
      "\n",
      "Epoch 00026: val_accuracy did not improve from 0.89670\n",
      "Epoch 27/50\n",
      "65/65 [==============================] - 7s 102ms/step - loss: 0.0434 - accuracy: 0.9904 - val_loss: 0.5001 - val_accuracy: 0.8835\n",
      "\n",
      "Epoch 00027: val_accuracy did not improve from 0.89670\n",
      "Epoch 28/50\n",
      "65/65 [==============================] - 7s 104ms/step - loss: 0.0292 - accuracy: 0.9922 - val_loss: 0.5283 - val_accuracy: 0.8923\n",
      "\n",
      "Epoch 00028: val_accuracy did not improve from 0.89670\n",
      "Epoch 29/50\n",
      "65/65 [==============================] - 7s 102ms/step - loss: 0.0424 - accuracy: 0.9850 - val_loss: 0.5225 - val_accuracy: 0.8835\n",
      "\n",
      "Epoch 00029: val_accuracy did not improve from 0.89670\n",
      "Epoch 30/50\n",
      "65/65 [==============================] - 7s 102ms/step - loss: 0.0277 - accuracy: 0.9892 - val_loss: 0.5169 - val_accuracy: 0.8901\n",
      "\n",
      "Epoch 00030: val_accuracy did not improve from 0.89670\n",
      "Epoch 31/50\n",
      "65/65 [==============================] - 7s 105ms/step - loss: 0.0260 - accuracy: 0.9935 - val_loss: 0.5352 - val_accuracy: 0.8835\n",
      "\n",
      "Epoch 00031: val_accuracy did not improve from 0.89670\n",
      "Epoch 32/50\n",
      "65/65 [==============================] - 7s 103ms/step - loss: 0.0299 - accuracy: 0.9908 - val_loss: 0.5632 - val_accuracy: 0.8901\n",
      "\n",
      "Epoch 00032: val_accuracy did not improve from 0.89670\n",
      "Epoch 33/50\n",
      "65/65 [==============================] - 7s 105ms/step - loss: 0.0300 - accuracy: 0.9943 - val_loss: 0.5867 - val_accuracy: 0.8879\n",
      "\n",
      "Epoch 00033: val_accuracy did not improve from 0.89670\n",
      "Epoch 34/50\n",
      "65/65 [==============================] - 7s 102ms/step - loss: 0.0217 - accuracy: 0.9930 - val_loss: 0.5842 - val_accuracy: 0.8769\n",
      "\n",
      "Epoch 00034: val_accuracy did not improve from 0.89670\n",
      "Epoch 35/50\n",
      "65/65 [==============================] - 7s 104ms/step - loss: 0.0282 - accuracy: 0.9908 - val_loss: 0.5886 - val_accuracy: 0.8791\n",
      "\n",
      "Epoch 00035: val_accuracy did not improve from 0.89670\n",
      "Epoch 36/50\n",
      "65/65 [==============================] - 7s 103ms/step - loss: 0.0112 - accuracy: 0.9963 - val_loss: 0.6298 - val_accuracy: 0.8879\n",
      "\n",
      "Epoch 00036: val_accuracy did not improve from 0.89670\n",
      "Epoch 37/50\n",
      "65/65 [==============================] - 7s 102ms/step - loss: 0.0297 - accuracy: 0.9932 - val_loss: 0.6246 - val_accuracy: 0.8791\n",
      "\n",
      "Epoch 00037: val_accuracy did not improve from 0.89670\n",
      "Epoch 38/50\n",
      "65/65 [==============================] - 7s 105ms/step - loss: 0.0284 - accuracy: 0.9946 - val_loss: 0.6569 - val_accuracy: 0.8901\n",
      "\n",
      "Epoch 00038: val_accuracy did not improve from 0.89670\n",
      "Epoch 39/50\n",
      "65/65 [==============================] - 7s 101ms/step - loss: 0.0205 - accuracy: 0.9969 - val_loss: 0.6567 - val_accuracy: 0.8769\n",
      "\n",
      "Epoch 00039: val_accuracy did not improve from 0.89670\n",
      "Epoch 40/50\n",
      "65/65 [==============================] - 7s 105ms/step - loss: 0.0237 - accuracy: 0.9941 - val_loss: 0.7044 - val_accuracy: 0.8835\n",
      "\n",
      "Epoch 00040: val_accuracy did not improve from 0.89670\n",
      "Epoch 41/50\n",
      "65/65 [==============================] - 7s 102ms/step - loss: 0.0203 - accuracy: 0.9966 - val_loss: 0.7132 - val_accuracy: 0.8835\n",
      "\n",
      "Epoch 00041: val_accuracy did not improve from 0.89670\n",
      "Epoch 42/50\n",
      "65/65 [==============================] - 7s 102ms/step - loss: 0.0145 - accuracy: 0.9953 - val_loss: 0.7224 - val_accuracy: 0.8813\n",
      "\n",
      "Epoch 00042: val_accuracy did not improve from 0.89670\n",
      "Epoch 43/50\n",
      "65/65 [==============================] - 7s 105ms/step - loss: 0.0182 - accuracy: 0.9940 - val_loss: 0.7241 - val_accuracy: 0.8835\n",
      "\n",
      "Epoch 00043: val_accuracy did not improve from 0.89670\n",
      "Epoch 44/50\n",
      "65/65 [==============================] - 7s 102ms/step - loss: 0.0153 - accuracy: 0.9973 - val_loss: 0.7186 - val_accuracy: 0.8835\n",
      "\n",
      "Epoch 00044: val_accuracy did not improve from 0.89670\n",
      "Epoch 45/50\n",
      "65/65 [==============================] - 7s 107ms/step - loss: 0.0176 - accuracy: 0.9944 - val_loss: 0.7381 - val_accuracy: 0.8857\n",
      "\n",
      "Epoch 00045: val_accuracy did not improve from 0.89670\n",
      "Epoch 46/50\n",
      "65/65 [==============================] - 7s 103ms/step - loss: 0.0184 - accuracy: 0.9967 - val_loss: 0.7225 - val_accuracy: 0.8857\n",
      "\n",
      "Epoch 00046: val_accuracy did not improve from 0.89670\n",
      "Epoch 47/50\n",
      "65/65 [==============================] - 7s 105ms/step - loss: 0.0101 - accuracy: 0.9977 - val_loss: 0.7135 - val_accuracy: 0.8835\n",
      "\n",
      "Epoch 00047: val_accuracy did not improve from 0.89670\n",
      "Epoch 48/50\n",
      "65/65 [==============================] - 7s 103ms/step - loss: 0.0125 - accuracy: 0.9977 - val_loss: 0.7091 - val_accuracy: 0.8791\n",
      "\n",
      "Epoch 00048: val_accuracy did not improve from 0.89670\n",
      "Epoch 49/50\n",
      "65/65 [==============================] - 7s 102ms/step - loss: 0.0098 - accuracy: 0.9979 - val_loss: 0.7436 - val_accuracy: 0.8813\n",
      "\n",
      "Epoch 00049: val_accuracy did not improve from 0.89670\n",
      "Epoch 50/50\n",
      "65/65 [==============================] - 7s 105ms/step - loss: 0.0159 - accuracy: 0.9959 - val_loss: 0.7560 - val_accuracy: 0.8835\n",
      "\n",
      "Epoch 00050: val_accuracy did not improve from 0.89670\n"
     ]
    }
   ],
   "source": [
    "model1 = Sequential()\n",
    "model1.add(layers.Embedding(max_words, 20))\n",
    "model1.add(layers.LSTM(20,dropout = 0.5,recurrent_dropout=0.5))\n",
    "model1.add(layers.Dense(3, activation='softmax'))\n",
    "model1.summary()\n",
    "\n",
    "\n",
    "model1.compile(optimizer='rmsprop',loss='categorical_crossentropy', metrics=['accuracy'])\n",
    "checkpoint1 = ModelCheckpoint(\"best_model1.hdf5\", monitor='val_accuracy', verbose=1,save_best_only=True, mode='auto',period=1,save_weights_only=False)\n",
    "history = model1.fit(X_train, y_train, epochs=50,batch_size=28,validation_data=(X_test, y_test),callbacks=[checkpoint1])"
   ]
  },
  {
   "cell_type": "code",
   "execution_count": null,
   "metadata": {},
   "outputs": [],
   "source": [
    "model2 = Sequential()\n",
    "model2.add(layers.Embedding(max_words, 40, input_length=max_len))\n",
    "model2.add(layers.Bidirectional(layers.LSTM(20,dropout=0.57,recurrent_dropout=0.57)))\n",
    "model2.add(layers.Dense(3,activation='softmax'))\n",
    "model2.compile(optimizer='rmsprop',loss='categorical_crossentropy', metrics=['accuracy'])\n",
    "#Implementing model checkpoins to save the best metric and do not lose it on training.\n",
    "checkpoint2 = ModelCheckpoint(\"best_model2.hdf5\", monitor='val_accuracy', verbose=1,save_best_only=True, mode='auto', period=1,save_weights_only=False)\n",
    "history = model2.fit(X_train, y_train, epochs=40,batch_size=28,validation_data=(X_test, y_test),callbacks=[checkpoint2])"
   ]
  },
  {
   "cell_type": "markdown",
   "metadata": {},
   "source": [
    "## MENYIMPAN MODEL"
   ]
  },
  {
   "cell_type": "code",
   "execution_count": 112,
   "metadata": {},
   "outputs": [],
   "source": [
    "best_model = keras.models.load_model(\"best_model1.hdf5\")"
   ]
  },
  {
   "cell_type": "markdown",
   "metadata": {},
   "source": [
    "## EVALUASI MODEL"
   ]
  },
  {
   "cell_type": "code",
   "execution_count": 113,
   "metadata": {},
   "outputs": [
    {
     "name": "stdout",
     "output_type": "stream",
     "text": [
      "15/15 - 2s - loss: 0.3415 - accuracy: 0.8967\n",
      "Model accuracy:  0.89670330286026\n"
     ]
    }
   ],
   "source": [
    "test_loss, test_acc = best_model.evaluate(X_test, y_test, verbose=2)\n",
    "print('Model accuracy: ',test_acc)"
   ]
  },
  {
   "cell_type": "code",
   "execution_count": 114,
   "metadata": {},
   "outputs": [
    {
     "data": {
      "image/png": "[encoded data removed]",
      "text/plain": [
       "<Figure size 432x288 with 1 Axes>"
      ]
     },
     "metadata": {
      "needs_background": "light"
     },
     "output_type": "display_data"
    },
    {
     "data": {
      "image/png": "[encoded data removed]",
      "text/plain": [
       "<Figure size 432x288 with 1 Axes>"
      ]
     },
     "metadata": {
      "needs_background": "light"
     },
     "output_type": "display_data"
    }
   ],
   "source": [
    "acc = history.history['accuracy']\n",
    "val_acc = history.history['val_accuracy']\n",
    "loss = history.history['loss']\n",
    "val_loss = history.history['val_loss']\n",
    " \n",
    "epochs = range(len(acc))\n",
    " \n",
    "plt.plot(epochs, acc, 'green', label='Training acc')\n",
    "plt.plot(epochs, val_acc, 'orange', label='Validation acc')\n",
    "plt.title('Percobaan 9', fontsize=15)\n",
    "plt.legend()\n",
    " \n",
    "plt.figure()\n",
    " \n",
    "plt.plot(epochs, loss, 'green', label='Training loss')\n",
    "plt.plot(epochs, val_loss, 'orange', label='Validation loss')\n",
    "plt.legend()\n",
    " \n",
    "plt.show()"
   ]
  },
  {
   "cell_type": "markdown",
   "metadata": {},
   "source": [
    "## CONFUSION MATRIX"
   ]
  },
  {
   "cell_type": "code",
   "execution_count": 118,
   "metadata": {},
   "outputs": [],
   "source": [
    "predictions = best_model.predict(X_train)"
   ]
  },
  {
   "cell_type": "code",
   "execution_count": 119,
   "metadata": {},
   "outputs": [],
   "source": [
    "matrix = confusion_matrix(y_train.argmax(axis=1), predictions.argmax(axis=1))"
   ]
  },
  {
   "cell_type": "code",
   "execution_count": 120,
   "metadata": {},
   "outputs": [
    {
     "data": {
      "text/plain": [
       "Text(114.0, 0.5, 'Actual')"
      ]
     },
     "execution_count": 120,
     "metadata": {},
     "output_type": "execute_result"
    },
    {
     "data": {
      "image/png": "[encoded data removed]",
      "text/plain": [
       "<Figure size 1080x1080 with 2 Axes>"
      ]
     },
     "metadata": {
      "needs_background": "light"
     },
     "output_type": "display_data"
    }
   ],
   "source": [
    "conf_matrix = pd.DataFrame(matrix, index = ['Negative','Neutral','Positive'],columns = ['Negative','Neutral','Positive'])\n",
    "\n",
    "plt.figure(figsize = (15,15))\n",
    "sns.heatmap(conf_matrix, annot=True, annot_kws={\"size\": 15}, cmap='Blues', fmt='g')\n",
    "plt.title('Percobaan 9', fontsize = 15)\n",
    "plt.xlabel(\"Predicted\")\n",
    "plt.ylabel(\"Actual\")"
   ]
  },
  {
   "cell_type": "markdown",
   "metadata": {},
   "source": [
    "## PENGUJIAN MODEL"
   ]
  },
  {
   "cell_type": "code",
   "execution_count": null,
   "metadata": {},
   "outputs": [],
   "source": [
    "sentiment = ['Negative','Neutral','Positive']"
   ]
  },
  {
   "cell_type": "code",
   "execution_count": null,
   "metadata": {},
   "outputs": [],
   "source": [
    "sequence = tokenizer.texts_to_sequences(['Yang bisa dibuat Kadrun adalah vaksin RABIES. Pantesan kelakuan mereka persis seperti ANJING GILA.'])\n",
    "test = pad_sequences(sequence, maxlen=max_len)\n",
    "sentiment[np.around(best_model.predict(test), decimals=0).argmax(axis=1)[0]]"
   ]
  },
  {
   "cell_type": "code",
   "execution_count": null,
   "metadata": {},
   "outputs": [],
   "source": [
    "sequence = tokenizer.texts_to_sequences(['Politisasi vaksin.Vaksin itu untuk pencegahan mengurangi resiko jika terpapar virus. karena benci rezim, tidak bisa bedakan antara politik dengan kesehatan dan lainnya. Dikiranya vaksin bertujuan untuk mematikan oposisi.'])\n",
    "test = pad_sequences(sequence, maxlen=max_len)\n",
    "sentiment[np.around(best_model.predict(test), decimals=0).argmax(axis=1)[0]]"
   ]
  },
  {
   "cell_type": "code",
   "execution_count": null,
   "metadata": {},
   "outputs": [],
   "source": [
    "sequence = tokenizer.texts_to_sequences(['BIN Gelar Vaksinasi Covid-19 untuk Pelajar SMP-SMA'])\n",
    "test = pad_sequences(sequence, maxlen=max_len)\n",
    "sentiment[np.around(best_model.predict(test), decimals=0).argmax(axis=1)[0]]"
   ]
  },
  {
   "cell_type": "code",
   "execution_count": null,
   "metadata": {},
   "outputs": [],
   "source": [
    "'red' is not a valid value for name; supported values are 'Accent', 'Accent_r', 'Blues', 'Blues_r', 'BrBG', 'BrBG_r', 'BuGn', 'BuGn_r', 'BuPu', 'BuPu_r', 'CMRmap', 'CMRmap_r', 'Dark2', 'Dark2_r', 'GnBu', 'GnBu_r', 'Greens', 'Greens_r', 'Greys', 'Greys_r', 'OrRd', 'OrRd_r', 'Oranges', 'Oranges_r', 'PRGn', 'PRGn_r', 'Paired', 'Paired_r', 'Pastel1', 'Pastel1_r', 'Pastel2', 'Pastel2_r', 'PiYG', 'PiYG_r', 'PuBu', 'PuBuGn', 'PuBuGn_r', 'PuBu_r', 'PuOr', 'PuOr_r', 'PuRd', 'PuRd_r', 'Purples', 'Purples_r', 'RdBu', 'RdBu_r', 'RdGy', 'RdGy_r', 'RdPu', 'RdPu_r', 'RdYlBu', 'RdYlBu_r', 'RdYlGn', 'RdYlGn_r', 'Reds', 'Reds_r', 'Set1', 'Set1_r', 'Set2', 'Set2_r', 'Set3', 'Set3_r', 'Spectral', 'Spectral_r', 'Wistia', 'Wistia_r', 'YlGn', 'YlGnBu', 'YlGnBu_r', 'YlGn_r', 'YlOrBr', 'YlOrBr_r', 'YlOrRd', 'YlOrRd_r', 'afmhot', 'afmhot_r', 'autumn', 'autumn_r', 'binary', 'binary_r', 'bone', 'bone_r', 'brg', 'brg_r', 'bwr', 'bwr_r', 'cividis', 'cividis_r', 'cool', 'cool_r', 'coolwarm', 'coolwarm_r', 'copper', 'copper_r', 'crest', 'crest_r', 'cubehelix', 'cubehelix_r', 'flag', 'flag_r', 'flare', 'flare_r', 'gist_earth', 'gist_earth_r', 'gist_gray', 'gist_gray_r', 'gist_heat', 'gist_heat_r', 'gist_ncar', 'gist_ncar_r', 'gist_rainbow', 'gist_rainbow_r', 'gist_stern', 'gist_stern_r', 'gist_yarg', 'gist_yarg_r', 'gnuplot', 'gnuplot2', 'gnuplot2_r', 'gnuplot_r', 'gray', 'gray_r', 'hot', 'hot_r', 'hsv', 'hsv_r', 'icefire', 'icefire_r', 'inferno', 'inferno_r', 'jet', 'jet_r', 'magma', 'magma_r', 'mako', 'mako_r', 'nipy_spectral', 'nipy_spectral_r', 'ocean', 'ocean_r', 'pink', 'pink_r', 'plasma', 'plasma_r', 'prism', 'prism_r', 'rainbow', 'rainbow_r', 'rocket', 'rocket_r', 'seismic', 'seismic_r', 'spring', 'spring_r', 'summer', 'summer_r', 'tab10', 'tab10_r', 'tab20', 'tab20_r', 'tab20b', 'tab20b_r', 'tab20c', 'tab20c_r', 'terrain', 'terrain_r', 'turbo', 'turbo_r', 'twilight', 'twilight_r', 'twilight_shifted', 'twilight_shifted_r', 'viridis', 'viridis_r', 'vlag', 'vlag_r', 'winter', 'winter_r'"
   ]
  },
  {
   "cell_type": "code",
   "execution_count": null,
   "metadata": {},
   "outputs": [],
   "source": [
    "Percobaan 1 nilai epoch 30 nilai layer 10 = 89.01%\n",
    "Percobaan 2 nilai epoch 30 nilai layer 15 = 89.23%\n",
    "Percobaan 3 nilai epoch 30 nilai layer 20 = 89.23%\n",
    "Percobaan 4 nilai epoch 40 nilai layer 10 = 89.01%\n",
    "Percobaan 5 nilai epoch 40 nilai layer 15 = 89.23%\n",
    "Percobaan 6 nilai epoch 40 nilai layer 20 = 89.23%\n",
    "Percobaan 7 nilai epoch 50 nilai layer 10 = 89.23%\n",
    "Percobaan 8 nilai epoch 50 nilai layer 15 = 89.89%\n",
    "Percobaan 9 nilai epoch 50 nilai layer 20 = 89.67%"
   ]
  }
 ],
 "metadata": {
  "kernelspec": {
   "display_name": "Python 3",
   "language": "python",
   "name": "python3"
  },
  "language_info": {
   "codemirror_mode": {
    "name": "ipython",
    "version": 3
   },
   "file_extension": ".py",
   "mimetype": "text/x-python",
   "name": "python",
   "nbconvert_exporter": "python",
   "pygments_lexer": "ipython3",
   "version": "3.8.8"
  }
 },
 "nbformat": 4,
 "nbformat_minor": 2
}
